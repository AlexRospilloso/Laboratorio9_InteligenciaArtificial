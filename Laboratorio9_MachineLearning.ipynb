{
  "nbformat": 4,
  "nbformat_minor": 0,
  "metadata": {
    "colab": {
      "provenance": []
    },
    "kernelspec": {
      "name": "python3",
      "display_name": "Python 3"
    },
    "language_info": {
      "name": "python"
    }
  },
  "cells": [
    {
      "cell_type": "code",
      "execution_count": 2,
      "metadata": {
        "id": "W1iJHyAyqhjC"
      },
      "outputs": [],
      "source": [
        "import numpy as np\n",
        "import pandas as pd\n",
        "from google.colab import drive\n",
        "from matplotlib import pyplot\n",
        "from mpl_toolkits.mplot3d import Axes3D\n",
        "\n",
        "%matplotlib inline"
      ]
    },
    {
      "cell_type": "code",
      "source": [
        "drive.mount(\"/content/drive\")"
      ],
      "metadata": {
        "colab": {
          "base_uri": "https://localhost:8080/"
        },
        "id": "VKr9E1ykqoMx",
        "outputId": "ac771953-e19c-4ce8-cb1b-ce52c2138f5b"
      },
      "execution_count": 3,
      "outputs": [
        {
          "output_type": "stream",
          "name": "stdout",
          "text": [
            "Mounted at /content/drive\n"
          ]
        }
      ]
    },
    {
      "cell_type": "code",
      "source": [
        "data = pd.read_csv(\"/content/drive/MyDrive/Datasets/Dataset CancerPulmon.csv\")\n",
        "data = np.array(data)\n",
        "x = data[:,2:6]\n",
        "y = data[:,6]\n",
        "n_ejemplos = y.size"
      ],
      "metadata": {
        "id": "oWHTWn13qqLg"
      },
      "execution_count": 4,
      "outputs": []
    },
    {
      "cell_type": "code",
      "source": [
        "def normalizarX(x):\n",
        "  x_normalizada = []\n",
        "  promedio = np.mean(x,axis=0)\n",
        "  x = x.astype(float)\n",
        "  desviacion_estandar = np.std(x,axis=0)\n",
        "  for i in range(n_ejemplos):\n",
        "    caracteristicas_x = []\n",
        "    for j in range(x.shape[1]):\n",
        "      if desviacion_estandar[j] != 0:\n",
        "        caracteristicas_x.append((x[i,j]-promedio[j])/desviacion_estandar[j])\n",
        "      else:\n",
        "        caracteristicas_x.append(0)\n",
        "    x_normalizada.append(caracteristicas_x)\n",
        "  return x_normalizada, promedio, desviacion_estandar"
      ],
      "metadata": {
        "id": "-jzF2V-KtYxf"
      },
      "execution_count": 5,
      "outputs": []
    },
    {
      "cell_type": "code",
      "source": [
        "x_normalizada, promedio, desviacion_estandar = normalizarX(x)\n",
        "x_normalizada = np.array(x_normalizada)\n",
        "x = np.concatenate((np.ones((n_ejemplos,1)),x_normalizada),axis=1)"
      ],
      "metadata": {
        "id": "fcSVC01ntZmH"
      },
      "execution_count": 6,
      "outputs": []
    },
    {
      "cell_type": "code",
      "source": [
        "def calcularCosto(x, y, theta):\n",
        "  J = 0\n",
        "  hipotesis = np.dot(x,theta)\n",
        "  J = (1/(2*n_ejemplos))*np.sum(np.square((hipotesis)-y))\n",
        "  return J"
      ],
      "metadata": {
        "id": "x1Y2Wb2ati8_"
      },
      "execution_count": 7,
      "outputs": []
    },
    {
      "cell_type": "code",
      "source": [
        "def descensoGradiente(x,y,theta,alpha,n_iteraciones):\n",
        "  historial_J = []\n",
        "  theta = theta.copy()\n",
        "  for i in range(n_iteraciones):\n",
        "    theta = theta-(alpha/n_ejemplos)*(np.dot(x,theta)-y).dot(x)\n",
        "    historial_J.append(calcularCosto(x,y,theta))\n",
        "  return theta, historial_J"
      ],
      "metadata": {
        "id": "ChQR8cl3tkA_"
      },
      "execution_count": 8,
      "outputs": []
    },
    {
      "cell_type": "code",
      "source": [
        "def hallarTheta():\n",
        "  theta = np.zeros(x.shape[1])\n",
        "  n_iteraciones = 1000\n",
        "  alpha = 0.003\n",
        "  theta, historial_J = descensoGradiente(x,y,theta,alpha,n_iteraciones)\n",
        "  return theta, historial_J"
      ],
      "metadata": {
        "id": "cpJkRopRt_DH"
      },
      "execution_count": 9,
      "outputs": []
    },
    {
      "cell_type": "code",
      "source": [
        "theta, historial_J = hallarTheta()\n",
        "print(\"Las thetas encontradas son: \",theta)\n",
        "print(\"El menor costo que se pudo determinar fue de: \",historial_J[-1])"
      ],
      "metadata": {
        "colab": {
          "base_uri": "https://localhost:8080/"
        },
        "id": "f4NC_4RtuB9f",
        "outputId": "eca71309-aed5-47aa-b14b-2d412983da6d"
      },
      "execution_count": 10,
      "outputs": [
        {
          "output_type": "stream",
          "name": "stdout",
          "text": [
            "Las thetas encontradas son:  [0.45105480815172244 0.2021737936401514 0.028878283459049192\n",
            " -0.16506322098633716 0.2032470600572927]\n",
            "El menor costo que se pudo determinar fue de:  0.017315427716706647\n"
          ]
        }
      ]
    },
    {
      "cell_type": "code",
      "source": [
        "def normalizarXPredecir(x):\n",
        "  x = np.array(x)\n",
        "  caracteristicas_x_predecir = []\n",
        "  for i in range (x.shape[0]):\n",
        "    if desviacion_estandar[i] != 0:\n",
        "      caracteristicas_x_predecir.append((x[i]-promedio[i])/desviacion_estandar[i])\n",
        "    else:\n",
        "      caracteristicas_x_predecir.append(0)\n",
        "  return caracteristicas_x_predecir"
      ],
      "metadata": {
        "id": "6m15ZZXwuUC2"
      },
      "execution_count": 11,
      "outputs": []
    },
    {
      "cell_type": "code",
      "source": [
        "def predecir(x):\n",
        "  x = np.array(x)\n",
        "  x = np.array(x).astype(float)\n",
        "  x = normalizarXPredecir(x)\n",
        "  x = np.array(x)\n",
        "  x = np.concatenate(([1],x),axis=0)\n",
        "  y_predecir = np.dot(x,theta)\n",
        "  print(\"La y predicha para los valores de x es: \",y_predecir)"
      ],
      "metadata": {
        "id": "Ie9WX3rBuaPv"
      },
      "execution_count": 12,
      "outputs": []
    },
    {
      "cell_type": "code",
      "source": [
        "predecir([35,3,5,4])"
      ],
      "metadata": {
        "colab": {
          "base_uri": "https://localhost:8080/"
        },
        "id": "YGF4Ng08udL_",
        "outputId": "225402ec-816e-446e-9f6f-4385503ebbca"
      },
      "execution_count": 13,
      "outputs": [
        {
          "output_type": "stream",
          "name": "stdout",
          "text": [
            "La y predicha para los valores de x es:  0.3906720034095501\n"
          ]
        }
      ]
    },
    {
      "cell_type": "code",
      "source": [
        "pyplot.plot(np.arange(len(historial_J)), historial_J, lw=2)\n",
        "pyplot.xlabel('Numero de iteraciones')\n",
        "pyplot.ylabel('Costo J')"
      ],
      "metadata": {
        "colab": {
          "base_uri": "https://localhost:8080/",
          "height": 296
        },
        "id": "4brTadsTvFex",
        "outputId": "9a63c7d2-95b1-4083-f9cf-7a2cb344ba99"
      },
      "execution_count": 14,
      "outputs": [
        {
          "output_type": "execute_result",
          "data": {
            "text/plain": [
              "Text(0, 0.5, 'Costo J')"
            ]
          },
          "metadata": {},
          "execution_count": 14
        },
        {
          "output_type": "display_data",
          "data": {
            "text/plain": [
              "<Figure size 432x288 with 1 Axes>"
            ],
            "image/png": "[encoded data removed]"
          },
          "metadata": {
            "needs_background": "light"
          }
        }
      ]
    },
    {
      "cell_type": "markdown",
      "source": [
        "METODO DE LA NORMAL"
      ],
      "metadata": {
        "id": "DvrEBInJ1Z2z"
      }
    },
    {
      "cell_type": "code",
      "source": [
        "data = pd.read_csv(\"/content/drive/MyDrive/Datasets/Dataset CancerPulmon.csv\")\n",
        "data = np.array(data)\n",
        "x = data[:,2:6]\n",
        "y = data[:,6]\n",
        "n_ejemplos = y.size\n",
        "x = np.concatenate((np.ones((n_ejemplos,1)),x),axis=1)"
      ],
      "metadata": {
        "id": "yHzjEnhi1b3D"
      },
      "execution_count": 16,
      "outputs": []
    },
    {
      "cell_type": "code",
      "source": [
        "def metodoNormal(x, y):\n",
        "  x = np.float64(x)\n",
        "  y = np.float64(y)\n",
        "  theta = np.dot(np.dot(np.linalg.inv(np.dot(x.T,x)),x.T),y)\n",
        "  return theta"
      ],
      "metadata": {
        "id": "fL5nVtdP1-wZ"
      },
      "execution_count": 17,
      "outputs": []
    },
    {
      "cell_type": "code",
      "source": [
        "theta = metodoNormal(x, y)\n",
        "print(\"Las thetas encontradas son: \",theta)\n",
        "x_predecir = [1,35,3,5,4]\n",
        "x_predecir = np.array(x_predecir)\n",
        "y_predecir = np.dot(x_predecir,theta)\n",
        "print(\"La y predicha para los valores de x es: \",y_predecir)"
      ],
      "metadata": {
        "colab": {
          "base_uri": "https://localhost:8080/"
        },
        "id": "gbrcI8gg2BOr",
        "outputId": "1ae89f97-3b75-4d65-9054-2a1190209ed7"
      },
      "execution_count": 18,
      "outputs": [
        {
          "output_type": "stream",
          "name": "stdout",
          "text": [
            "Las thetas encontradas son:  [-0.0809594   0.01277977  0.00216894 -0.06267237  0.0939671 ]\n",
            "La y predicha para los valores de x es:  0.43534588145885184\n"
          ]
        }
      ]
    }
  ]
}